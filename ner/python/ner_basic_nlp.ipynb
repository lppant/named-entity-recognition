{
 "cells": [
  {
   "cell_type": "markdown",
   "id": "48d1ce1a-4242-4186-ad00-9209ee425ce7",
   "metadata": {},
   "source": [
    "# NER Introduction"
   ]
  },
  {
   "cell_type": "markdown",
   "id": "34b39011-1281-48c3-a507-228fe4b58005",
   "metadata": {},
   "source": [
    "Named Entity Recognition (NER) is a natural language processing technique that identifies and classifies named entities in text into predefined categories such as person names, organizations, locations, dates, and more. NER is crucial for various applications, including information extraction, question answering, and text summarization."
   ]
  },
  {
   "cell_type": "markdown",
   "id": "73dd590e-04c9-4c4d-ae50-e55a881a757e",
   "metadata": {},
   "source": [
    "# How NER Works"
   ]
  },
  {
   "cell_type": "markdown",
   "id": "0947ba57-f28f-46df-a059-241883af0657",
   "metadata": {},
   "source": [
    "NER typically involves the following steps:\n",
    "1. Tokenization: Breaking down the text into individual words or tokens.\n",
    "2. Feature extraction: Analyzing the properties of tokens, including morphological, syntactic, and semantic features.\n",
    "3. Entity detection: Identifying potential named entities in the text.\n",
    "4. Entity classification: Assigning the detected entities to specific categories."
   ]
  },
  {
   "cell_type": "markdown",
   "id": "27d38125-3512-486f-8351-269fb6dfd8ba",
   "metadata": {},
   "source": [
    "# Implementation with SpaCy"
   ]
  },
  {
   "cell_type": "markdown",
   "id": "c0558db6-05b9-436e-8bc6-b6c54fdb4d08",
   "metadata": {},
   "source": [
    "spaCy is a popular Python library for NLP tasks, including NER.\n",
    "Below is an example of how to perform NER using spaCy."
   ]
  },
  {
   "cell_type": "code",
   "execution_count": null,
   "id": "a34f008a-933b-4336-9143-7ffe8aeaf18a",
   "metadata": {},
   "outputs": [],
   "source": [
    "import spacy\n",
    "\n",
    "# Load the English language model\n",
    "nlp = spacy.load(\"en_core_web_sm\")\n",
    "\n",
    "# Sample text\n",
    "text = \"Apple Inc. was founded by Steve Jobs in Cupertino, California on April 1, 1976.\"\n",
    "\n",
    "# Process the text\n",
    "doc = nlp(text)\n",
    "\n",
    "# Extract named entities\n",
    "for ent in doc.ents:\n",
    "    print(f\"Entity: {ent.text}, Type: {ent.label_}\")"
   ]
  },
  {
   "cell_type": "markdown",
   "id": "24522f36-b67f-40c3-9460-6dd4603fd73f",
   "metadata": {},
   "source": [
    "# Entity Types"
   ]
  },
  {
   "cell_type": "markdown",
   "id": "2e8486f8-1e9b-40f5-aeb7-af99574c2163",
   "metadata": {},
   "source": [
    "Common entity types recognized by NER models include:\n",
    "1. PERSON: Names of individuals\n",
    "2. ORG: Organizations, companies, institutions\n",
    "3. GPE: Geopolitical entities (countries, cities, states)\n",
    "4. LOC: Non-GPE locations (mountains, water bodies)\n",
    "5. DATE: Dates or periods\n",
    "6. TIME: Times\n",
    "7. MONEY: Monetary values\n",
    "8. PRODUCT: Products or objects"
   ]
  },
  {
   "cell_type": "markdown",
   "id": "724936ed-afdb-458b-92b5-98ad96ccfe5f",
   "metadata": {},
   "source": [
    "# Customizing NER"
   ]
  },
  {
   "cell_type": "markdown",
   "id": "fa887cf5-674c-4b82-b13f-f6dcf458e2ea",
   "metadata": {},
   "source": [
    "For domain-specific applications, you can train custom NER models or extend existing ones. \n",
    "Here is an example of how to add a custom entity type to spaCy."
   ]
  },
  {
   "cell_type": "code",
   "execution_count": null,
   "id": "bf857e16-63d4-4dfa-b1da-b2ac92a0f8bd",
   "metadata": {},
   "outputs": [],
   "source": [
    "import spacy\n",
    "from spacy.tokens import Doc\n",
    "from spacy.training import Example\n",
    "\n",
    "# Create a blank English model\n",
    "nlp = spacy.blank(\"en\")\n",
    "\n",
    "# Add the entity recognizer to the pipeline\n",
    "ner = nlp.add_pipe(\"ner\")\n",
    "\n",
    "# Add a new label to the entity recognizer\n",
    "ner.add_label(\"PRODUCT\")\n",
    "\n",
    "# Training data\n",
    "train_data = [\n",
    "    (\"Apple released the new iPhone 12.\", {\"entities\": [(20, 30, \"PRODUCT\")]}),\n",
    "    (\"The MacBook Pro is a popular laptop.\", {\"entities\": [(4, 14, \"PRODUCT\")]})\n",
    "]\n",
    "\n",
    "# Train the model\n",
    "optimizer = nlp.begin_training()\n",
    "for _ in range(20):\n",
    "    for text, annotations in train_data:\n",
    "        example = Example.from_dict(nlp.make_doc(text), annotations)\n",
    "        nlp.update([example], sgd=optimizer)\n",
    "\n",
    "# Test the custom NER model\n",
    "test_text = \"I love my new iPhone 12 and MacBook Pro.\"\n",
    "doc = nlp(test_text)\n",
    "for ent in doc.ents:\n",
    "    print(f\"Entity: {ent.text}, Type: {ent.label_}\")"
   ]
  },
  {
   "cell_type": "markdown",
   "id": "2e556dbe-1738-4006-a336-4724a0fafd98",
   "metadata": {},
   "source": [
    "This example demonstrates how to add a custom \"PRODUCT\" entity type and train a simple NER model to recognize it."
   ]
  },
  {
   "cell_type": "markdown",
   "id": "54a53187-4511-4ae3-a4b5-572396d2dbef",
   "metadata": {},
   "source": [
    "# Evaluation"
   ]
  },
  {
   "cell_type": "markdown",
   "id": "700d255a-bb66-42c6-b03a-0928c1295f2c",
   "metadata": {},
   "source": [
    "NER models are typically evaluated using metrics such as precision, recall, and F1-score. The CoNLL-2003 dataset is a common benchmark for assessing NER performance3.\n",
    "\n",
    "By leveraging pre-trained models and customizing them for specific domains, NER can be a powerful tool for extracting structured information from unstructured text, enabling various downstream NLP applications."
   ]
  }
 ],
 "metadata": {
  "kernelspec": {
   "display_name": "Python 3 (ipykernel)",
   "language": "python",
   "name": "python3"
  },
  "language_info": {
   "codemirror_mode": {
    "name": "ipython",
    "version": 3
   },
   "file_extension": ".py",
   "mimetype": "text/x-python",
   "name": "python",
   "nbconvert_exporter": "python",
   "pygments_lexer": "ipython3",
   "version": "3.8.10"
  }
 },
 "nbformat": 4,
 "nbformat_minor": 5
}
